{
 "cells": [
  {
   "cell_type": "code",
   "execution_count": 2,
   "metadata": {},
   "outputs": [],
   "source": [
    "import os\n",
    "import missingno as msno\n",
    "import pandas as pd\n",
    "import numpy as np\n",
    "from pathlib import Path\n",
    "from IPython.display import display\n",
    "from fuzzywuzzy import process"
   ]
  },
  {
   "cell_type": "code",
   "execution_count": 18,
   "metadata": {},
   "outputs": [],
   "source": [
    "# Load the dataset\n",
    "metrics_df = pd.read_csv('metrics_data.csv')\n",
    "tests_df = pd.read_csv('tests_data.csv')"
   ]
  },
  {
   "cell_type": "code",
   "execution_count": 6,
   "metadata": {},
   "outputs": [
    {
     "data": {
      "text/html": [
       "<div>\n",
       "<style scoped>\n",
       "    .dataframe tbody tr th:only-of-type {\n",
       "        vertical-align: middle;\n",
       "    }\n",
       "\n",
       "    .dataframe tbody tr th {\n",
       "        vertical-align: top;\n",
       "    }\n",
       "\n",
       "    .dataframe thead th {\n",
       "        text-align: right;\n",
       "    }\n",
       "</style>\n",
       "<table border=\"1\" class=\"dataframe\">\n",
       "  <thead>\n",
       "    <tr style=\"text-align: right;\">\n",
       "      <th></th>\n",
       "      <th>Name</th>\n",
       "      <th>Age</th>\n",
       "      <th>BMI</th>\n",
       "      <th>Height</th>\n",
       "      <th>Label</th>\n",
       "    </tr>\n",
       "  </thead>\n",
       "  <tbody>\n",
       "    <tr>\n",
       "      <th>0</th>\n",
       "      <td>Huda Mcpherson</td>\n",
       "      <td>36.0</td>\n",
       "      <td>34.174890</td>\n",
       "      <td>163</td>\n",
       "      <td>1</td>\n",
       "    </tr>\n",
       "    <tr>\n",
       "      <th>1</th>\n",
       "      <td>Cassidy Hayes</td>\n",
       "      <td>75.0</td>\n",
       "      <td>30.480000</td>\n",
       "      <td>192</td>\n",
       "      <td>2</td>\n",
       "    </tr>\n",
       "    <tr>\n",
       "      <th>2</th>\n",
       "      <td>Arwen Kendall</td>\n",
       "      <td>78.0</td>\n",
       "      <td>25.300000</td>\n",
       "      <td>157</td>\n",
       "      <td>1</td>\n",
       "    </tr>\n",
       "    <tr>\n",
       "      <th>3</th>\n",
       "      <td>Nathanael Robin</td>\n",
       "      <td>45.0</td>\n",
       "      <td>21.303949</td>\n",
       "      <td>169</td>\n",
       "      <td>2</td>\n",
       "    </tr>\n",
       "    <tr>\n",
       "      <th>4</th>\n",
       "      <td>Theon Black</td>\n",
       "      <td>51.0</td>\n",
       "      <td>19.132653</td>\n",
       "      <td>193</td>\n",
       "      <td>2</td>\n",
       "    </tr>\n",
       "  </tbody>\n",
       "</table>\n",
       "</div>"
      ],
      "text/plain": [
       "              Name   Age        BMI  Height  Label\n",
       "0   Huda Mcpherson  36.0  34.174890     163      1\n",
       "1    Cassidy Hayes  75.0  30.480000     192      2\n",
       "2    Arwen Kendall  78.0  25.300000     157      1\n",
       "3  Nathanael Robin  45.0  21.303949     169      2\n",
       "4      Theon Black  51.0  19.132653     193      2"
      ]
     },
     "execution_count": 6,
     "metadata": {},
     "output_type": "execute_result"
    }
   ],
   "source": [
    "metrics_df.head()"
   ]
  },
  {
   "cell_type": "code",
   "execution_count": 9,
   "metadata": {},
   "outputs": [
    {
     "data": {
      "text/html": [
       "<div>\n",
       "<style scoped>\n",
       "    .dataframe tbody tr th:only-of-type {\n",
       "        vertical-align: middle;\n",
       "    }\n",
       "\n",
       "    .dataframe tbody tr th {\n",
       "        vertical-align: top;\n",
       "    }\n",
       "\n",
       "    .dataframe thead th {\n",
       "        text-align: right;\n",
       "    }\n",
       "</style>\n",
       "<table border=\"1\" class=\"dataframe\">\n",
       "  <thead>\n",
       "    <tr style=\"text-align: right;\">\n",
       "      <th></th>\n",
       "      <th>name</th>\n",
       "      <th>Glucose</th>\n",
       "      <th>Insulin</th>\n",
       "      <th>HOMA</th>\n",
       "      <th>Leptin</th>\n",
       "      <th>Adiponectin</th>\n",
       "      <th>Resistin</th>\n",
       "      <th>MCP.1</th>\n",
       "    </tr>\n",
       "  </thead>\n",
       "  <tbody>\n",
       "    <tr>\n",
       "      <th>0</th>\n",
       "      <td>Maisha Snow</td>\n",
       "      <td>92.0</td>\n",
       "      <td>3.330</td>\n",
       "      <td>0.755688</td>\n",
       "      <td>54.6800</td>\n",
       "      <td>12.100000</td>\n",
       "      <td>10.96000</td>\n",
       "      <td>268.230</td>\n",
       "    </tr>\n",
       "    <tr>\n",
       "      <th>1</th>\n",
       "      <td>Luisa Jones</td>\n",
       "      <td>78.0</td>\n",
       "      <td>2.640</td>\n",
       "      <td>0.507936</td>\n",
       "      <td>6.3339</td>\n",
       "      <td>3.886145</td>\n",
       "      <td>22.94254</td>\n",
       "      <td>737.672</td>\n",
       "    </tr>\n",
       "    <tr>\n",
       "      <th>2</th>\n",
       "      <td>Saba Hail</td>\n",
       "      <td>82.0</td>\n",
       "      <td>2.820</td>\n",
       "      <td>0.570392</td>\n",
       "      <td>24.9600</td>\n",
       "      <td>33.750000</td>\n",
       "      <td>3.27000</td>\n",
       "      <td>392.460</td>\n",
       "    </tr>\n",
       "    <tr>\n",
       "      <th>3</th>\n",
       "      <td>Corey Hendrix</td>\n",
       "      <td>86.0</td>\n",
       "      <td>7.553</td>\n",
       "      <td>1.600000</td>\n",
       "      <td>14.0900</td>\n",
       "      <td>20.320000</td>\n",
       "      <td>7.64000</td>\n",
       "      <td>63.610</td>\n",
       "    </tr>\n",
       "    <tr>\n",
       "      <th>4</th>\n",
       "      <td>Grady Becker</td>\n",
       "      <td>84.0</td>\n",
       "      <td>2.869</td>\n",
       "      <td>0.590000</td>\n",
       "      <td>26.6500</td>\n",
       "      <td>38.040000</td>\n",
       "      <td>3.32000</td>\n",
       "      <td>191.720</td>\n",
       "    </tr>\n",
       "  </tbody>\n",
       "</table>\n",
       "</div>"
      ],
      "text/plain": [
       "            name  Glucose  Insulin      HOMA   Leptin  Adiponectin  Resistin  \\\n",
       "0    Maisha Snow     92.0    3.330  0.755688  54.6800    12.100000  10.96000   \n",
       "1    Luisa Jones     78.0    2.640  0.507936   6.3339     3.886145  22.94254   \n",
       "2      Saba Hail     82.0    2.820  0.570392  24.9600    33.750000   3.27000   \n",
       "3  Corey Hendrix     86.0    7.553  1.600000  14.0900    20.320000   7.64000   \n",
       "4   Grady Becker     84.0    2.869  0.590000  26.6500    38.040000   3.32000   \n",
       "\n",
       "     MCP.1  \n",
       "0  268.230  \n",
       "1  737.672  \n",
       "2  392.460  \n",
       "3   63.610  \n",
       "4  191.720  "
      ]
     },
     "execution_count": 9,
     "metadata": {},
     "output_type": "execute_result"
    }
   ],
   "source": [
    "tests_df.head()"
   ]
  },
  {
   "cell_type": "code",
   "execution_count": 19,
   "metadata": {},
   "outputs": [],
   "source": [
    "# format names\n",
    "tests_df['name'] = tests_df['name'].str.split(', ').str[::-1].str.join(' ')"
   ]
  },
  {
   "cell_type": "code",
   "execution_count": 20,
   "metadata": {},
   "outputs": [
    {
     "data": {
      "text/plain": [
       "<AxesSubplot:>"
      ]
     },
     "execution_count": 20,
     "metadata": {},
     "output_type": "execute_result"
    },
    {
     "data": {
      "image/png": "[encoded data removed]",
      "text/plain": [
       "<Figure size 1800x720 with 2 Axes>"
      ]
     },
     "metadata": {
      "needs_background": "light"
     },
     "output_type": "display_data"
    }
   ],
   "source": [
    "#visualise missing data\n",
    "msno.matrix(tests_df)"
   ]
  },
  {
   "cell_type": "code",
   "execution_count": 21,
   "metadata": {},
   "outputs": [
    {
     "data": {
      "text/plain": [
       "(116, 8)"
      ]
     },
     "execution_count": 21,
     "metadata": {},
     "output_type": "execute_result"
    }
   ],
   "source": [
    "tests_df.shape"
   ]
  },
  {
   "cell_type": "code",
   "execution_count": 22,
   "metadata": {},
   "outputs": [
    {
     "data": {
      "text/plain": [
       "name           0\n",
       "Glucose        1\n",
       "Insulin        3\n",
       "HOMA           3\n",
       "Leptin         2\n",
       "Adiponectin    2\n",
       "Resistin       0\n",
       "MCP.1          3\n",
       "dtype: int64"
      ]
     },
     "execution_count": 22,
     "metadata": {},
     "output_type": "execute_result"
    }
   ],
   "source": [
    "tests_df.isna().sum()"
   ]
  },
  {
   "cell_type": "code",
   "execution_count": 25,
   "metadata": {},
   "outputs": [],
   "source": [
    "tests_df = tests_df.dropna()"
   ]
  },
  {
   "cell_type": "code",
   "execution_count": 26,
   "metadata": {},
   "outputs": [
    {
     "data": {
      "text/plain": [
       "(103, 8)"
      ]
     },
     "execution_count": 26,
     "metadata": {},
     "output_type": "execute_result"
    }
   ],
   "source": [
    "tests_df.shape"
   ]
  },
  {
   "cell_type": "code",
   "execution_count": 27,
   "metadata": {},
   "outputs": [
    {
     "data": {
      "text/plain": [
       "<AxesSubplot:>"
      ]
     },
     "execution_count": 27,
     "metadata": {},
     "output_type": "execute_result"
    },
    {
     "data": {
      "image/png": "[encoded data removed]",
      "text/plain": [
       "<Figure size 1800x720 with 2 Axes>"
      ]
     },
     "metadata": {
      "needs_background": "light"
     },
     "output_type": "display_data"
    }
   ],
   "source": [
    "msno.matrix(metrics_df)"
   ]
  },
  {
   "cell_type": "code",
   "execution_count": 28,
   "metadata": {},
   "outputs": [
    {
     "data": {
      "text/plain": [
       "(117, 5)"
      ]
     },
     "execution_count": 28,
     "metadata": {},
     "output_type": "execute_result"
    }
   ],
   "source": [
    "metrics_df.shape"
   ]
  },
  {
   "cell_type": "code",
   "execution_count": 29,
   "metadata": {},
   "outputs": [
    {
     "data": {
      "text/plain": [
       "Name      0\n",
       "Age       5\n",
       "BMI       1\n",
       "Height    0\n",
       "Label     0\n",
       "dtype: int64"
      ]
     },
     "execution_count": 29,
     "metadata": {},
     "output_type": "execute_result"
    }
   ],
   "source": [
    "metrics_df.isna().sum()"
   ]
  },
  {
   "cell_type": "code",
   "execution_count": 30,
   "metadata": {},
   "outputs": [],
   "source": [
    "metrics_df =  metrics_df.dropna()"
   ]
  },
  {
   "cell_type": "code",
   "execution_count": 31,
   "metadata": {},
   "outputs": [
    {
     "data": {
      "text/plain": [
       "(111, 5)"
      ]
     },
     "execution_count": 31,
     "metadata": {},
     "output_type": "execute_result"
    }
   ],
   "source": [
    "metrics_df.shape"
   ]
  },
  {
   "cell_type": "code",
   "execution_count": 38,
   "metadata": {},
   "outputs": [
    {
     "data": {
      "text/html": [
       "<div>\n",
       "<style scoped>\n",
       "    .dataframe tbody tr th:only-of-type {\n",
       "        vertical-align: middle;\n",
       "    }\n",
       "\n",
       "    .dataframe tbody tr th {\n",
       "        vertical-align: top;\n",
       "    }\n",
       "\n",
       "    .dataframe thead th {\n",
       "        text-align: right;\n",
       "    }\n",
       "</style>\n",
       "<table border=\"1\" class=\"dataframe\">\n",
       "  <thead>\n",
       "    <tr style=\"text-align: right;\">\n",
       "      <th></th>\n",
       "      <th>Name</th>\n",
       "      <th>Glucose</th>\n",
       "      <th>Insulin</th>\n",
       "      <th>HOMA</th>\n",
       "      <th>Leptin</th>\n",
       "      <th>Adiponectin</th>\n",
       "      <th>Resistin</th>\n",
       "      <th>MCP.1</th>\n",
       "    </tr>\n",
       "  </thead>\n",
       "  <tbody>\n",
       "    <tr>\n",
       "      <th>0</th>\n",
       "      <td>Maisha Snow</td>\n",
       "      <td>92.0</td>\n",
       "      <td>3.330</td>\n",
       "      <td>0.755688</td>\n",
       "      <td>54.6800</td>\n",
       "      <td>12.100000</td>\n",
       "      <td>10.96000</td>\n",
       "      <td>268.230</td>\n",
       "    </tr>\n",
       "    <tr>\n",
       "      <th>1</th>\n",
       "      <td>Luisa Jones</td>\n",
       "      <td>78.0</td>\n",
       "      <td>2.640</td>\n",
       "      <td>0.507936</td>\n",
       "      <td>6.3339</td>\n",
       "      <td>3.886145</td>\n",
       "      <td>22.94254</td>\n",
       "      <td>737.672</td>\n",
       "    </tr>\n",
       "    <tr>\n",
       "      <th>2</th>\n",
       "      <td>Saba Hail</td>\n",
       "      <td>82.0</td>\n",
       "      <td>2.820</td>\n",
       "      <td>0.570392</td>\n",
       "      <td>24.9600</td>\n",
       "      <td>33.750000</td>\n",
       "      <td>3.27000</td>\n",
       "      <td>392.460</td>\n",
       "    </tr>\n",
       "    <tr>\n",
       "      <th>3</th>\n",
       "      <td>Corey Hendrix</td>\n",
       "      <td>86.0</td>\n",
       "      <td>7.553</td>\n",
       "      <td>1.600000</td>\n",
       "      <td>14.0900</td>\n",
       "      <td>20.320000</td>\n",
       "      <td>7.64000</td>\n",
       "      <td>63.610</td>\n",
       "    </tr>\n",
       "    <tr>\n",
       "      <th>4</th>\n",
       "      <td>Grady Becker</td>\n",
       "      <td>84.0</td>\n",
       "      <td>2.869</td>\n",
       "      <td>0.590000</td>\n",
       "      <td>26.6500</td>\n",
       "      <td>38.040000</td>\n",
       "      <td>3.32000</td>\n",
       "      <td>191.720</td>\n",
       "    </tr>\n",
       "    <tr>\n",
       "      <th>...</th>\n",
       "      <td>...</td>\n",
       "      <td>...</td>\n",
       "      <td>...</td>\n",
       "      <td>...</td>\n",
       "      <td>...</td>\n",
       "      <td>...</td>\n",
       "      <td>...</td>\n",
       "      <td>...</td>\n",
       "    </tr>\n",
       "    <tr>\n",
       "      <th>111</th>\n",
       "      <td>Caitlan Beard</td>\n",
       "      <td>95.0</td>\n",
       "      <td>12.548</td>\n",
       "      <td>2.940415</td>\n",
       "      <td>33.1612</td>\n",
       "      <td>2.364950</td>\n",
       "      <td>9.95420</td>\n",
       "      <td>655.834</td>\n",
       "    </tr>\n",
       "    <tr>\n",
       "      <th>112</th>\n",
       "      <td>Nabilah Mcgill</td>\n",
       "      <td>105.0</td>\n",
       "      <td>4.420</td>\n",
       "      <td>1.144780</td>\n",
       "      <td>21.7800</td>\n",
       "      <td>17.860000</td>\n",
       "      <td>4.82000</td>\n",
       "      <td>195.940</td>\n",
       "    </tr>\n",
       "    <tr>\n",
       "      <th>113</th>\n",
       "      <td>Mackenzie Devine</td>\n",
       "      <td>103.0</td>\n",
       "      <td>2.432</td>\n",
       "      <td>0.617890</td>\n",
       "      <td>14.3224</td>\n",
       "      <td>6.783870</td>\n",
       "      <td>26.01360</td>\n",
       "      <td>293.123</td>\n",
       "    </tr>\n",
       "    <tr>\n",
       "      <th>114</th>\n",
       "      <td>Angelica Stevens</td>\n",
       "      <td>87.0</td>\n",
       "      <td>30.212</td>\n",
       "      <td>6.483495</td>\n",
       "      <td>29.2739</td>\n",
       "      <td>6.268540</td>\n",
       "      <td>24.24591</td>\n",
       "      <td>764.667</td>\n",
       "    </tr>\n",
       "    <tr>\n",
       "      <th>115</th>\n",
       "      <td>Rajan Goldsmith</td>\n",
       "      <td>90.0</td>\n",
       "      <td>4.713</td>\n",
       "      <td>1.046286</td>\n",
       "      <td>23.8479</td>\n",
       "      <td>6.644245</td>\n",
       "      <td>15.55625</td>\n",
       "      <td>621.273</td>\n",
       "    </tr>\n",
       "  </tbody>\n",
       "</table>\n",
       "<p>103 rows × 8 columns</p>\n",
       "</div>"
      ],
      "text/plain": [
       "                 Name  Glucose  Insulin      HOMA   Leptin  Adiponectin  \\\n",
       "0         Maisha Snow     92.0    3.330  0.755688  54.6800    12.100000   \n",
       "1         Luisa Jones     78.0    2.640  0.507936   6.3339     3.886145   \n",
       "2           Saba Hail     82.0    2.820  0.570392  24.9600    33.750000   \n",
       "3       Corey Hendrix     86.0    7.553  1.600000  14.0900    20.320000   \n",
       "4        Grady Becker     84.0    2.869  0.590000  26.6500    38.040000   \n",
       "..                ...      ...      ...       ...      ...          ...   \n",
       "111     Caitlan Beard     95.0   12.548  2.940415  33.1612     2.364950   \n",
       "112    Nabilah Mcgill    105.0    4.420  1.144780  21.7800    17.860000   \n",
       "113  Mackenzie Devine    103.0    2.432  0.617890  14.3224     6.783870   \n",
       "114  Angelica Stevens     87.0   30.212  6.483495  29.2739     6.268540   \n",
       "115   Rajan Goldsmith     90.0    4.713  1.046286  23.8479     6.644245   \n",
       "\n",
       "     Resistin    MCP.1  \n",
       "0    10.96000  268.230  \n",
       "1    22.94254  737.672  \n",
       "2     3.27000  392.460  \n",
       "3     7.64000   63.610  \n",
       "4     3.32000  191.720  \n",
       "..        ...      ...  \n",
       "111   9.95420  655.834  \n",
       "112   4.82000  195.940  \n",
       "113  26.01360  293.123  \n",
       "114  24.24591  764.667  \n",
       "115  15.55625  621.273  \n",
       "\n",
       "[103 rows x 8 columns]"
      ]
     },
     "execution_count": 38,
     "metadata": {},
     "output_type": "execute_result"
    }
   ],
   "source": [
    "# merge on names\n",
    "tests_df = tests_df.rename(columns={'name': 'Name'})\n",
    "tests_df"
   ]
  },
  {
   "cell_type": "code",
   "execution_count": 39,
   "metadata": {},
   "outputs": [],
   "source": [
    "merge_df = metrics_df.merge(tests_df, on='Name')"
   ]
  },
  {
   "cell_type": "code",
   "execution_count": 40,
   "metadata": {},
   "outputs": [
    {
     "data": {
      "text/html": [
       "<div>\n",
       "<style scoped>\n",
       "    .dataframe tbody tr th:only-of-type {\n",
       "        vertical-align: middle;\n",
       "    }\n",
       "\n",
       "    .dataframe tbody tr th {\n",
       "        vertical-align: top;\n",
       "    }\n",
       "\n",
       "    .dataframe thead th {\n",
       "        text-align: right;\n",
       "    }\n",
       "</style>\n",
       "<table border=\"1\" class=\"dataframe\">\n",
       "  <thead>\n",
       "    <tr style=\"text-align: right;\">\n",
       "      <th></th>\n",
       "      <th>Name</th>\n",
       "      <th>Age</th>\n",
       "      <th>BMI</th>\n",
       "      <th>Height</th>\n",
       "      <th>Label</th>\n",
       "      <th>Glucose</th>\n",
       "      <th>Insulin</th>\n",
       "      <th>HOMA</th>\n",
       "      <th>Leptin</th>\n",
       "      <th>Adiponectin</th>\n",
       "      <th>Resistin</th>\n",
       "      <th>MCP.1</th>\n",
       "    </tr>\n",
       "  </thead>\n",
       "  <tbody>\n",
       "    <tr>\n",
       "      <th>0</th>\n",
       "      <td>Huda Mcpherson</td>\n",
       "      <td>36.0</td>\n",
       "      <td>34.174890</td>\n",
       "      <td>163</td>\n",
       "      <td>1</td>\n",
       "      <td>80.0</td>\n",
       "      <td>6.590</td>\n",
       "      <td>1.300427</td>\n",
       "      <td>10.2809</td>\n",
       "      <td>5.065915</td>\n",
       "      <td>15.72187</td>\n",
       "      <td>581.313</td>\n",
       "    </tr>\n",
       "    <tr>\n",
       "      <th>1</th>\n",
       "      <td>Cassidy Hayes</td>\n",
       "      <td>75.0</td>\n",
       "      <td>30.480000</td>\n",
       "      <td>192</td>\n",
       "      <td>2</td>\n",
       "      <td>152.0</td>\n",
       "      <td>7.010</td>\n",
       "      <td>2.628283</td>\n",
       "      <td>50.5300</td>\n",
       "      <td>10.060000</td>\n",
       "      <td>11.73000</td>\n",
       "      <td>99.450</td>\n",
       "    </tr>\n",
       "    <tr>\n",
       "      <th>2</th>\n",
       "      <td>Arwen Kendall</td>\n",
       "      <td>78.0</td>\n",
       "      <td>25.300000</td>\n",
       "      <td>157</td>\n",
       "      <td>1</td>\n",
       "      <td>60.0</td>\n",
       "      <td>3.508</td>\n",
       "      <td>0.519184</td>\n",
       "      <td>6.6330</td>\n",
       "      <td>10.567295</td>\n",
       "      <td>4.66380</td>\n",
       "      <td>209.749</td>\n",
       "    </tr>\n",
       "    <tr>\n",
       "      <th>3</th>\n",
       "      <td>Nathanael Robin</td>\n",
       "      <td>45.0</td>\n",
       "      <td>21.303949</td>\n",
       "      <td>169</td>\n",
       "      <td>2</td>\n",
       "      <td>102.0</td>\n",
       "      <td>13.852</td>\n",
       "      <td>3.485163</td>\n",
       "      <td>7.6476</td>\n",
       "      <td>21.056625</td>\n",
       "      <td>23.03408</td>\n",
       "      <td>552.444</td>\n",
       "    </tr>\n",
       "    <tr>\n",
       "      <th>4</th>\n",
       "      <td>Tahmina Carty</td>\n",
       "      <td>34.0</td>\n",
       "      <td>24.242424</td>\n",
       "      <td>177</td>\n",
       "      <td>2</td>\n",
       "      <td>92.0</td>\n",
       "      <td>21.699</td>\n",
       "      <td>4.924226</td>\n",
       "      <td>16.7353</td>\n",
       "      <td>21.823745</td>\n",
       "      <td>12.06534</td>\n",
       "      <td>481.949</td>\n",
       "    </tr>\n",
       "    <tr>\n",
       "      <th>...</th>\n",
       "      <td>...</td>\n",
       "      <td>...</td>\n",
       "      <td>...</td>\n",
       "      <td>...</td>\n",
       "      <td>...</td>\n",
       "      <td>...</td>\n",
       "      <td>...</td>\n",
       "      <td>...</td>\n",
       "      <td>...</td>\n",
       "      <td>...</td>\n",
       "      <td>...</td>\n",
       "      <td>...</td>\n",
       "    </tr>\n",
       "    <tr>\n",
       "      <th>93</th>\n",
       "      <td>Caitlan Beard</td>\n",
       "      <td>57.0</td>\n",
       "      <td>34.838148</td>\n",
       "      <td>189</td>\n",
       "      <td>2</td>\n",
       "      <td>95.0</td>\n",
       "      <td>12.548</td>\n",
       "      <td>2.940415</td>\n",
       "      <td>33.1612</td>\n",
       "      <td>2.364950</td>\n",
       "      <td>9.95420</td>\n",
       "      <td>655.834</td>\n",
       "    </tr>\n",
       "    <tr>\n",
       "      <th>94</th>\n",
       "      <td>Nabilah Mcgill</td>\n",
       "      <td>72.0</td>\n",
       "      <td>23.620000</td>\n",
       "      <td>165</td>\n",
       "      <td>2</td>\n",
       "      <td>105.0</td>\n",
       "      <td>4.420</td>\n",
       "      <td>1.144780</td>\n",
       "      <td>21.7800</td>\n",
       "      <td>17.860000</td>\n",
       "      <td>4.82000</td>\n",
       "      <td>195.940</td>\n",
       "    </tr>\n",
       "    <tr>\n",
       "      <th>95</th>\n",
       "      <td>Mackenzie Devine</td>\n",
       "      <td>40.0</td>\n",
       "      <td>27.636054</td>\n",
       "      <td>173</td>\n",
       "      <td>2</td>\n",
       "      <td>103.0</td>\n",
       "      <td>2.432</td>\n",
       "      <td>0.617890</td>\n",
       "      <td>14.3224</td>\n",
       "      <td>6.783870</td>\n",
       "      <td>26.01360</td>\n",
       "      <td>293.123</td>\n",
       "    </tr>\n",
       "    <tr>\n",
       "      <th>96</th>\n",
       "      <td>Angelica Stevens</td>\n",
       "      <td>52.0</td>\n",
       "      <td>30.801249</td>\n",
       "      <td>185</td>\n",
       "      <td>2</td>\n",
       "      <td>87.0</td>\n",
       "      <td>30.212</td>\n",
       "      <td>6.483495</td>\n",
       "      <td>29.2739</td>\n",
       "      <td>6.268540</td>\n",
       "      <td>24.24591</td>\n",
       "      <td>764.667</td>\n",
       "    </tr>\n",
       "    <tr>\n",
       "      <th>97</th>\n",
       "      <td>Rajan Goldsmith</td>\n",
       "      <td>45.0</td>\n",
       "      <td>29.384757</td>\n",
       "      <td>166</td>\n",
       "      <td>2</td>\n",
       "      <td>90.0</td>\n",
       "      <td>4.713</td>\n",
       "      <td>1.046286</td>\n",
       "      <td>23.8479</td>\n",
       "      <td>6.644245</td>\n",
       "      <td>15.55625</td>\n",
       "      <td>621.273</td>\n",
       "    </tr>\n",
       "  </tbody>\n",
       "</table>\n",
       "<p>98 rows × 12 columns</p>\n",
       "</div>"
      ],
      "text/plain": [
       "                Name   Age        BMI  Height  Label  Glucose  Insulin  \\\n",
       "0     Huda Mcpherson  36.0  34.174890     163      1     80.0    6.590   \n",
       "1      Cassidy Hayes  75.0  30.480000     192      2    152.0    7.010   \n",
       "2      Arwen Kendall  78.0  25.300000     157      1     60.0    3.508   \n",
       "3    Nathanael Robin  45.0  21.303949     169      2    102.0   13.852   \n",
       "4      Tahmina Carty  34.0  24.242424     177      2     92.0   21.699   \n",
       "..               ...   ...        ...     ...    ...      ...      ...   \n",
       "93     Caitlan Beard  57.0  34.838148     189      2     95.0   12.548   \n",
       "94    Nabilah Mcgill  72.0  23.620000     165      2    105.0    4.420   \n",
       "95  Mackenzie Devine  40.0  27.636054     173      2    103.0    2.432   \n",
       "96  Angelica Stevens  52.0  30.801249     185      2     87.0   30.212   \n",
       "97   Rajan Goldsmith  45.0  29.384757     166      2     90.0    4.713   \n",
       "\n",
       "        HOMA   Leptin  Adiponectin  Resistin    MCP.1  \n",
       "0   1.300427  10.2809     5.065915  15.72187  581.313  \n",
       "1   2.628283  50.5300    10.060000  11.73000   99.450  \n",
       "2   0.519184   6.6330    10.567295   4.66380  209.749  \n",
       "3   3.485163   7.6476    21.056625  23.03408  552.444  \n",
       "4   4.924226  16.7353    21.823745  12.06534  481.949  \n",
       "..       ...      ...          ...       ...      ...  \n",
       "93  2.940415  33.1612     2.364950   9.95420  655.834  \n",
       "94  1.144780  21.7800    17.860000   4.82000  195.940  \n",
       "95  0.617890  14.3224     6.783870  26.01360  293.123  \n",
       "96  6.483495  29.2739     6.268540  24.24591  764.667  \n",
       "97  1.046286  23.8479     6.644245  15.55625  621.273  \n",
       "\n",
       "[98 rows x 12 columns]"
      ]
     },
     "execution_count": 40,
     "metadata": {},
     "output_type": "execute_result"
    }
   ],
   "source": [
    "merge_df"
   ]
  },
  {
   "cell_type": "code",
   "execution_count": 42,
   "metadata": {},
   "outputs": [],
   "source": [
    "# dupliates?\n",
    "merge_df = merge_df.drop_duplicates(subset =\"Name\") "
   ]
  },
  {
   "cell_type": "code",
   "execution_count": 44,
   "metadata": {},
   "outputs": [
    {
     "data": {
      "text/plain": [
       "<AxesSubplot:>"
      ]
     },
     "execution_count": 44,
     "metadata": {},
     "output_type": "execute_result"
    },
    {
     "data": {
      "image/png": "[encoded data removed]",
      "text/plain": [
       "<Figure size 1800x720 with 2 Axes>"
      ]
     },
     "metadata": {
      "needs_background": "light"
     },
     "output_type": "display_data"
    }
   ],
   "source": [
    "msno.matrix(merge_df)"
   ]
  },
  {
   "cell_type": "code",
   "execution_count": 58,
   "metadata": {},
   "outputs": [
    {
     "name": "stdout",
     "output_type": "stream",
     "text": [
      "<class 'pandas.core.frame.DataFrame'>\n",
      "Int64Index: 97 entries, 0 to 97\n",
      "Data columns (total 12 columns):\n",
      " #   Column       Non-Null Count  Dtype  \n",
      "---  ------       --------------  -----  \n",
      " 0   Name         97 non-null     object \n",
      " 1   Age          97 non-null     float64\n",
      " 2   BMI          97 non-null     float64\n",
      " 3   Height       97 non-null     int64  \n",
      " 4   Label        97 non-null     int64  \n",
      " 5   Glucose      97 non-null     float64\n",
      " 6   Insulin      97 non-null     float64\n",
      " 7   HOMA         97 non-null     float64\n",
      " 8   Leptin       97 non-null     float64\n",
      " 9   Adiponectin  97 non-null     float64\n",
      " 10  Resistin     97 non-null     float64\n",
      " 11  MCP.1        97 non-null     float64\n",
      "dtypes: float64(9), int64(2), object(1)\n",
      "memory usage: 9.9+ KB\n"
     ]
    }
   ],
   "source": [
    "merge_df.info()"
   ]
  },
  {
   "cell_type": "code",
   "execution_count": 59,
   "metadata": {},
   "outputs": [],
   "source": [
    "merge_df.to_csv('cleaned_df.csv')"
   ]
  }
 ],
 "metadata": {
  "kernelspec": {
   "display_name": "Python 3.8.12 ('myenv')",
   "language": "python",
   "name": "python3"
  },
  "language_info": {
   "codemirror_mode": {
    "name": "ipython",
    "version": 3
   },
   "file_extension": ".py",
   "mimetype": "text/x-python",
   "name": "python",
   "nbconvert_exporter": "python",
   "pygments_lexer": "ipython3",
   "version": "3.8.12"
  },
  "orig_nbformat": 4,
  "vscode": {
   "interpreter": {
    "hash": "c06b237160dce937b4e28b39103a0ec7f27cacf16c319f63cb1c746820d6a216"
   }
  }
 },
 "nbformat": 4,
 "nbformat_minor": 2
}
